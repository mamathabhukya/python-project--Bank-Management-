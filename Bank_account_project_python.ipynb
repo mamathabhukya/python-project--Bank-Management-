{
  "nbformat": 4,
  "nbformat_minor": 0,
  "metadata": {
    "colab": {
      "provenance": [],
      "toc_visible": true,
      "authorship_tag": "ABX9TyNC61sJbvZL1vaBtOOSU85T",
      "include_colab_link": true
    },
    "kernelspec": {
      "name": "python3",
      "display_name": "Python 3"
    },
    "language_info": {
      "name": "python"
    }
  },
  "cells": [
    {
      "cell_type": "markdown",
      "metadata": {
        "id": "view-in-github",
        "colab_type": "text"
      },
      "source": [
        "<a href=\"https://colab.research.google.com/github/mamathabhukya/python-project--Bank-Management-/blob/main/Bank_account_project_python.ipynb\" target=\"_parent\"><img src=\"https://colab.research.google.com/assets/colab-badge.svg\" alt=\"Open In Colab\"/></a>"
      ]
    },
    {
      "cell_type": "code",
      "source": [
        "class BankAccount:\n",
        "\n",
        "    no_of_cust = 0\n",
        "    acc_num = 42010\n",
        "\n",
        "    def __init__(self, name, mobile_no, initial_depo, pin):\n",
        "\n",
        "        self.name                 = name\n",
        "        self.cust_acc_num         = BankAccount.acc_num\n",
        "        self.mobile_no            = mobile_no\n",
        "        self.acc_balance          = initial_depo\n",
        "        self.pin                  = pin\n",
        "\n",
        "        BankAccount.acc_num       = BankAccount.acc_num + 1\n",
        "        BankAccount.no_of_cust    = BankAccount.no_of_cust + 1\n",
        "\n",
        "    def basic_details(self):\n",
        "        print(f'User: {self.name}\\t Account No: {self.cust_acc_num}\\t Balance: ₹{self.acc_balance}')\n",
        "\n",
        "    def deposit(self):\n",
        "        amount = int(input('Enter the deposit amount: '))\n",
        "        if amount > 0:\n",
        "            self.acc_balance      = self.acc_balance + amount\n",
        "            print(f'Transaction completed. Current Balance: ₹{self.acc_balance}')\n",
        "        else:\n",
        "            print('Invalid amount transaction aborted')\n",
        "\n",
        "    def withdrawl(self):\n",
        "        amount = int(input('Enter the withdrawl amount: '))\n",
        "        if amount <= self.acc_balance and amount > 0:\n",
        "            self.acc_balance      = self.acc_balance - amount\n",
        "            print(f'Transaction completed. Current Balance: ₹{self.acc_balance}')\n",
        "        else:\n",
        "            print('Invalid amount transaction aborted')\n",
        "\n",
        "    def payment(self, other):\n",
        "        amount = int(input('Enter the payment amount: '))\n",
        "        if amount <= self.acc_balance and amount > 0:\n",
        "            self.acc_balance      = self.acc_balance - amount\n",
        "            other.acc_balance     = other.acc_balance + amount\n",
        "            print(f'Transaction completed. Current Balance: ₹{self.acc_balance}')\n",
        "        else:\n",
        "            print('Invalid amount transaction aborted')\n",
        "\n",
        "\n",
        "if __name__ == '__main__':\n",
        "\n",
        "    cust1 = BankAccount(name='Mamatha', mobile_no=9876543210, initial_depo=1000, pin=123)\n",
        "    cust2 = BankAccount(name='venkat', mobile_no=9876543212, initial_depo=2000, pin=456)\n",
        "    print('No. of customers is',BankAccount.no_of_cust)\n",
        "    print(cust1.basic_details())\n",
        "    print(cust2.basic_details())\n",
        "    # cust1.deposit()\n",
        "    # print(cust1.basic_details())\n",
        "    # cust1.withdrawl()\n",
        "    # print(cust1.basic_details())\n",
        "    cust1.payment(cust2)\n",
        "    print(cust2.basic_details())"
      ],
      "metadata": {
        "colab": {
          "base_uri": "https://localhost:8080/"
        },
        "id": "KM7pZt_sJmsy",
        "outputId": "d0e26a6a-9188-4b63-f83a-09f1233856f4"
      },
      "execution_count": 3,
      "outputs": [
        {
          "output_type": "stream",
          "name": "stdout",
          "text": [
            "No. of customers is 2\n",
            "User: Mamatha\t Account No: 42010\t Balance: ₹1000\n",
            "None\n",
            "User: venkat\t Account No: 42011\t Balance: ₹2000\n",
            "None\n",
            "Enter the payment amount: 1200\n",
            "Invalid amount transaction aborted\n",
            "User: venkat\t Account No: 42011\t Balance: ₹2000\n",
            "None\n"
          ]
        }
      ]
    }
  ]
}